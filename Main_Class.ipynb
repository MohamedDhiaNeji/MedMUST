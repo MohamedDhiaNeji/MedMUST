{
  "nbformat": 4,
  "nbformat_minor": 0,
  "metadata": {
    "colab": {
      "provenance": []
    },
    "kernelspec": {
      "name": "python3",
      "display_name": "Python 3"
    },
    "language_info": {
      "name": "python"
    }
  },
  "cells": [
    {
      "cell_type": "code",
      "source": [
        "Hospitals= {\n",
        "    \"Charles-Nicoles\" : 0,\n",
        "    \"Kassab\": 1,\n",
        "    \"Rabta\": 2,\n",
        "}\n"
      ],
      "metadata": {
        "id": "QFkME72qnq6v"
      },
      "execution_count": 2,
      "outputs": []
    },
    {
      "cell_type": "code",
      "source": [
        "def AddHospital(self, value):\n",
        "  a=int(input(\"What's the name of the new hospital?\"))\n",
        "  Hospitals.append(a)\n",
        "  return(Hospitals)\n"
      ],
      "metadata": {
        "id": "wIYnvAgWuxqi"
      },
      "execution_count": 3,
      "outputs": []
    },
    {
      "cell_type": "code",
      "execution_count": 6,
      "metadata": {
        "colab": {
          "base_uri": "https://localhost:8080/"
        },
        "id": "qEE7H_87iCxk",
        "outputId": "3a944c58-37e0-439c-ae01-78d5e94f36de"
      },
      "outputs": [
        {
          "name": "stdout",
          "output_type": "stream",
          "text": [
            "1: Add Review\n",
            "2: View Reviews\n",
            "3: Add a Hospital\n",
            "4: Add Departement\n",
            "5: Exit\n",
            "What do you want to do?\n",
            "1\n",
            "======================\n",
            "Charles-Nicoles\n",
            "Kassab\n",
            "Rabta\n",
            "MUST\n",
            "======================\n",
            "What's the hospital name?Rabta\n"
          ]
        }
      ],
      "source": [
        "print(\"1: Add Review\")\n",
        "print(\"2: View Reviews\")\n",
        "print(\"3: Add a Hospital\")\n",
        "print(\"4: Add Departement\")\n",
        "print(\"5: Exit\")\n",
        "UP = int(input(\"What do you want to do?\\n\"))\n",
        "print(\"======================\")\n",
        "if UP==1 or UP==2:\n",
        "  for element in Hospitals:\n",
        "    print(element)\n",
        "  print(\"======================\")\n",
        "  UP1 = input(\"What's the hospital name?\")\n",
        "elif UP==3:\n",
        "  UP3= input(\"What's the name of the new hospital?\")\n",
        "  if UP3 in Hospitals:\n",
        "     print(\"Error: This hospital already exist\")\n",
        "  else:\n",
        "     Hospitals[UP3]=3\n",
        "elif UP==4:\n",
        "  UP.add_departement()\n",
        "elif UP==5:\n",
        "  print(\"Good Bye\")\n",
        "#NEw Commit"
      ]
    },
    {
      "cell_type": "code",
      "source": [
        "\n",
        "\n",
        "\n",
        "\n",
        "\n",
        "\n",
        "\n",
        "Hospitals"
      ],
      "metadata": {
        "colab": {
          "base_uri": "https://localhost:8080/"
        },
        "id": "NWfQCuCe7Wew",
        "outputId": "485a0a0a-5c21-4759-8afc-0d8c5ad96c79"
      },
      "execution_count": 5,
      "outputs": [
        {
          "output_type": "execute_result",
          "data": {
            "text/plain": [
              "{'Charles-Nicoles': 0, 'Kassab': 1, 'Rabta': 2, 'MUST': 3}"
            ]
          },
          "metadata": {},
          "execution_count": 5
        }
      ]
    },
    {
      "cell_type": "code",
      "source": [
        "UP1"
      ],
      "metadata": {
        "colab": {
          "base_uri": "https://localhost:8080/",
          "height": 35
        },
        "id": "qbUA7SlNnqmD",
        "outputId": "720b76ab-3201-4912-ddc0-55c6409a6f15"
      },
      "execution_count": null,
      "outputs": [
        {
          "output_type": "execute_result",
          "data": {
            "text/plain": [
              "'Aziza Othmen'"
            ],
            "application/vnd.google.colaboratory.intrinsic+json": {
              "type": "string"
            }
          },
          "metadata": {},
          "execution_count": 56
        }
      ]
    },
    {
      "cell_type": "code",
      "source": [
        "liste"
      ],
      "metadata": {
        "colab": {
          "base_uri": "https://localhost:8080/"
        },
        "id": "-wcH67XklbaJ",
        "outputId": "92b0804d-3530-4ecc-ad93-f8e158bba64d"
      },
      "execution_count": null,
      "outputs": [
        {
          "output_type": "execute_result",
          "data": {
            "text/plain": [
              "['a', 'b', 'c']"
            ]
          },
          "metadata": {},
          "execution_count": 24
        }
      ]
    },
    {
      "cell_type": "code",
      "source": [
        "for element in liste:\n",
        "  print(element)"
      ],
      "metadata": {
        "colab": {
          "base_uri": "https://localhost:8080/"
        },
        "id": "SHCp-7vGoSLb",
        "outputId": "7e88a438-d3a1-48df-df22-facb17b3f739"
      },
      "execution_count": null,
      "outputs": [
        {
          "output_type": "stream",
          "name": "stdout",
          "text": [
            "a\n",
            "b\n",
            "c\n"
          ]
        }
      ]
    },
    {
      "cell_type": "code",
      "source": [],
      "metadata": {
        "id": "xiENcNh0obeK"
      },
      "execution_count": null,
      "outputs": []
    },
    {
      "cell_type": "code",
      "source": [
        "for i in dic.values():\n",
        "  print(i)"
      ],
      "metadata": {
        "colab": {
          "base_uri": "https://localhost:8080/"
        },
        "id": "dks9Gn7LsVvf",
        "outputId": "dc530b04-5f61-48c9-ec97-c4a18fafe32f"
      },
      "execution_count": null,
      "outputs": [
        {
          "output_type": "stream",
          "name": "stdout",
          "text": [
            "houda\n",
            "22\n",
            "True\n"
          ]
        }
      ]
    },
    {
      "cell_type": "code",
      "source": [
        "liste =  [1,2,3]\n",
        "a = int(input('give a value'))\n",
        "\n",
        "liste.append(a)\n",
        "liste"
      ],
      "metadata": {
        "colab": {
          "base_uri": "https://localhost:8080/"
        },
        "id": "GJT14TfTscK_",
        "outputId": "dcd0b10e-03f6-4d71-b89b-83d0fedd24d4"
      },
      "execution_count": null,
      "outputs": [
        {
          "name": "stdout",
          "output_type": "stream",
          "text": [
            "give a value9\n"
          ]
        },
        {
          "output_type": "execute_result",
          "data": {
            "text/plain": [
              "[1, 2, 3, 9]"
            ]
          },
          "metadata": {},
          "execution_count": 43
        }
      ]
    },
    {
      "cell_type": "code",
      "source": [
        "dic = {\n",
        "    'aaa' : 0,\n",
        "    'b' : 1,\n",
        "    'c': 2\n",
        "}\n",
        "variable = 'a'\n",
        "variable in dic"
      ],
      "metadata": {
        "colab": {
          "base_uri": "https://localhost:8080/"
        },
        "id": "2ztMVIsRvUWw",
        "outputId": "319d5cfc-49bb-4746-85e4-f9c056055c4f"
      },
      "execution_count": null,
      "outputs": [
        {
          "output_type": "execute_result",
          "data": {
            "text/plain": [
              "False"
            ]
          },
          "metadata": {},
          "execution_count": 68
        }
      ]
    },
    {
      "cell_type": "code",
      "source": [
        "a in dic"
      ],
      "metadata": {
        "colab": {
          "base_uri": "https://localhost:8080/"
        },
        "id": "0IQ_dNwdyn8A",
        "outputId": "250b7668-29b2-4076-b027-5f73bed82b03"
      },
      "execution_count": null,
      "outputs": [
        {
          "output_type": "execute_result",
          "data": {
            "text/plain": [
              "{'a': 3, 'b': 1, 'c': 2}"
            ]
          },
          "metadata": {},
          "execution_count": 59
        }
      ]
    },
    {
      "cell_type": "code",
      "source": [],
      "metadata": {
        "id": "VeisW78jytNg"
      },
      "execution_count": null,
      "outputs": []
    }
  ]
}